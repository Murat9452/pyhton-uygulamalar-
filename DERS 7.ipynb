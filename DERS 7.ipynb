{
  "nbformat": 4,
  "nbformat_minor": 0,
  "metadata": {
    "colab": {
      "provenance": []
    },
    "kernelspec": {
      "name": "python3",
      "display_name": "Python 3"
    },
    "language_info": {
      "name": "python"
    }
  },
  "cells": [
    {
      "cell_type": "code",
      "execution_count": 1,
      "metadata": {
        "colab": {
          "base_uri": "https://localhost:8080/"
        },
        "id": "JAVXKNnI_br7",
        "outputId": "dcd79814-3845-492e-8cd6-69ce27563bb2"
      },
      "outputs": [
        {
          "output_type": "stream",
          "name": "stdout",
          "text": [
            "3.10.12 (main, Jul 29 2024, 16:56:48) [GCC 11.4.0]\n"
          ]
        }
      ],
      "source": [
        "import sys # import python programlama dilinde yazılıma kütüphane eklemeye yarayan bir kod blogudur.\n",
        "print(sys.version)"
      ]
    },
    {
      "cell_type": "code",
      "source": [
        "from google.colab import drive # google colab - drive bağlantısı\n",
        "\n",
        "drive.mount('/content/drive')"
      ],
      "metadata": {
        "colab": {
          "base_uri": "https://localhost:8080/"
        },
        "id": "7cOI8uhJEqlf",
        "outputId": "b99a025d-9766-4520-fb6e-5934a9f07ef6"
      },
      "execution_count": 2,
      "outputs": [
        {
          "output_type": "stream",
          "name": "stdout",
          "text": [
            "Mounted at /content/drive\n"
          ]
        }
      ]
    },
    {
      "cell_type": "code",
      "source": [
        "import os\n",
        "\n",
        "os.chdir('/content/drive/My Drive/VERIYAPILARI_ISTKA')\n",
        "\n",
        "!pwd # bize kodun çıktısını dosya yolu olarak veren kod blogudur."
      ],
      "metadata": {
        "colab": {
          "base_uri": "https://localhost:8080/"
        },
        "id": "YHRpfMHaEtru",
        "outputId": "f844452a-98dd-4784-8478-18793d5261ba"
      },
      "execution_count": 3,
      "outputs": [
        {
          "output_type": "stream",
          "name": "stdout",
          "text": [
            "/content/drive/My Drive/VERIYAPILARI_ISTKA\n"
          ]
        }
      ]
    },
    {
      "cell_type": "code",
      "source": [
        "import pandas as pd\n",
        "\n",
        "VeriSetiYolu = '/content/drive/My Drive/VERIYAPILARI_ISTKA/veriseti'\n",
        "\n",
        "for file in os.listdir(VeriSetiYolu):                         # Klasördeki tüm dosyaları listele\n",
        "\n",
        "    if file.endswith(('.xlsx', '.xls')):                     # Sadece Excel dosyalarını seç\n",
        "\n",
        "        df = pd.read_excel(os.path.join(VeriSetiYolu, file))  # Excel dosyasını pandas ile oku\n",
        "\n",
        "        df.to_csv(os.path.join(VeriSetiYolu, file.rsplit('.', 1)[0] + '.csv'), index=False)\n",
        "                                                               # DataFrame'i CSV formatında kaydet\n",
        "        print(f\"{file} dosyası CSV formatına çevrildi.\")     # Çevrim İşlemi Çıktısı\n",
        "\n",
        "# İşlem tamamlandığında kaç tane excel dosyası var ise o kadar *.csv formatına çevildiğinin"
      ],
      "metadata": {
        "colab": {
          "base_uri": "https://localhost:8080/"
        },
        "id": "zGQ2AMwKFREY",
        "outputId": "a8e99e76-212f-4c30-cc26-9485e4e69c9c"
      },
      "execution_count": 4,
      "outputs": [
        {
          "output_type": "stream",
          "name": "stdout",
          "text": [
            "atktan-geri-kazanm-miktarlar.xlsx dosyası CSV formatına çevrildi.\n"
          ]
        }
      ]
    },
    {
      "cell_type": "code",
      "source": [
        "import os\n",
        "import pandas as pd\n",
        "\n",
        "VeriSetiYolu = '/content/drive/My Drive/VERIYAPILARI_ISTKA/veriseti'\n",
        "\n",
        "# VeriSetiYolu içindeki .csv dosyalarını bul ve say\n",
        "csv_dosyalari = [dosya for dosya in os.listdir(VeriSetiYolu) if dosya.endswith('.csv')]\n",
        "\n",
        "# .csv dosya sayısını ekrana yazdır\n",
        "csv_dosya_sayisi = len(csv_dosyalari)\n",
        "print(f\"VeriSetiYolu içerisinde {csv_dosyalari} tane .csv dosyası bulunuyor.\")\n",
        "\n",
        "# Mevcut *.csv uzantılı dosyaların isimlerini getiriyoruz.\n",
        "print(\"Bulunan CSV Dosyaları:\")\n",
        "for dosya in csv_dosyalari:\n",
        "    print(dosya)"
      ],
      "metadata": {
        "colab": {
          "base_uri": "https://localhost:8080/"
        },
        "id": "V2GULRhGFz7x",
        "outputId": "262fc34a-3979-42fa-b531-8531047a92de"
      },
      "execution_count": 5,
      "outputs": [
        {
          "output_type": "stream",
          "name": "stdout",
          "text": [
            "VeriSetiYolu içerisinde ['atktan-geri-kazanm-miktarlar.csv', 'atik.csv'] tane .csv dosyası bulunuyor.\n",
            "Bulunan CSV Dosyaları:\n",
            "atktan-geri-kazanm-miktarlar.csv\n",
            "atik.csv\n"
          ]
        }
      ]
    }
  ]
}